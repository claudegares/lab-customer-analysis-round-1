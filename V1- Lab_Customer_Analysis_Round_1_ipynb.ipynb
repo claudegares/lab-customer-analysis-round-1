{
 "cells": [
  {
   "cell_type": "code",
   "execution_count": 2,
   "metadata": {
    "id": "bfNS2oWb4g6g"
   },
   "outputs": [],
   "source": [
    "#Establezco el entorno y llamo los archivos a analizar\n",
    "\n",
    "import pandas as pd\n",
    "import numpy as np"
   ]
  },
  {
   "cell_type": "code",
   "execution_count": 10,
   "metadata": {
    "colab": {
     "base_uri": "https://localhost:8080/",
     "height": 142
    },
    "id": "njrXE3d15SUT",
    "outputId": "6e81c5ae-3a55-4912-adc2-cc2ae0f4d975"
   },
   "outputs": [],
   "source": [
    "file1 = pd.read_csv(r'C:\\Users\\100094606\\Documents\\IRON HACK\\1 week\\3. Labs\\Lab_Customer_Analysis_Round_1\\csv_files\\file1.csv')\n",
    "file2 = pd.read_csv(r'C:\\Users\\100094606\\Documents\\IRON HACK\\1 week\\3. Labs\\Lab_Customer_Analysis_Round_1\\csv_files\\file2.csv')\n",
    "file3 = pd.read_csv(r'C:\\Users\\100094606\\Documents\\IRON HACK\\1 week\\3. Labs\\Lab_Customer_Analysis_Round_1\\csv_files\\file3.csv')"
   ]
  },
  {
   "cell_type": "code",
   "execution_count": 12,
   "metadata": {},
   "outputs": [
    {
     "name": "stdout",
     "output_type": "stream",
     "text": [
      "File 1 shape: (4008, 11)\n",
      "File 2 shape: (996, 11)\n",
      "File 3 shape: (7070, 11)\n"
     ]
    }
   ],
   "source": [
    "#Lectura de los archivos como data frame \n",
    "\n",
    "print(\"File 1 shape:\", file1.shape)\n",
    "print(\"File 2 shape:\", file2.shape)\n",
    "print(\"File 3 shape:\", file3.shape)"
   ]
  },
  {
   "cell_type": "code",
   "execution_count": 13,
   "metadata": {
    "colab": {
     "base_uri": "https://localhost:8080/"
    },
    "id": "6xtSbklYP2b9",
    "outputId": "5d8eb5c4-4ef2-4127-be6b-6ff24aa5c02b"
   },
   "outputs": [
    {
     "data": {
      "text/plain": [
       "['Customer',\n",
       " 'State',\n",
       " 'Customer Lifetime Value',\n",
       " 'Education',\n",
       " 'Gender',\n",
       " 'Income',\n",
       " 'Monthly Premium Auto',\n",
       " 'Number of Open Complaints',\n",
       " 'Policy Type',\n",
       " 'Total Claim Amount',\n",
       " 'Vehicle Class']"
      ]
     },
     "execution_count": 13,
     "metadata": {},
     "output_type": "execute_result"
    }
   ],
   "source": [
    "#Despliego en una lista los encabezados de la comlumnas del data frame para identificar irregularidades\n",
    "\n",
    "file1.columns.values.tolist()\n",
    "file2.columns.values.tolist()\n",
    "file3.columns.values.tolist()"
   ]
  },
  {
   "cell_type": "code",
   "execution_count": 14,
   "metadata": {
    "id": "Wu-PvWLfSbQz"
   },
   "outputs": [],
   "source": [
    "#Convierto las cabeceras de las columnas en string\n",
    "file1.columns = file1.columns.astype(\"str\")\n",
    "file2.columns = file2.columns.astype(\"str\")\n",
    "file3.columns = file3.columns.astype(\"str\")"
   ]
  },
  {
   "cell_type": "code",
   "execution_count": 15,
   "metadata": {
    "id": "ZcRP9Q4fQJRs"
   },
   "outputs": [],
   "source": [
    "#Estandarizo las cabeceras de las columnas en mayúsculas\n",
    "file1.columns = file1.columns.str.upper()\n",
    "file2.columns = file2.columns.str.upper()\n",
    "file3.columns = file3.columns.str.upper()"
   ]
  },
  {
   "cell_type": "code",
   "execution_count": 16,
   "metadata": {
    "colab": {
     "base_uri": "https://localhost:8080/"
    },
    "id": "gYluVR89QN-1",
    "outputId": "e7aded10-b7c4-453d-dab1-cd2826d644f1"
   },
   "outputs": [
    {
     "data": {
      "text/plain": [
       "['CUSTOMER',\n",
       " 'STATE',\n",
       " 'CUSTOMER LIFETIME VALUE',\n",
       " 'EDUCATION',\n",
       " 'GENDER',\n",
       " 'INCOME',\n",
       " 'MONTHLY PREMIUM AUTO',\n",
       " 'NUMBER OF OPEN COMPLAINTS',\n",
       " 'POLICY TYPE',\n",
       " 'TOTAL CLAIM AMOUNT',\n",
       " 'VEHICLE CLASS']"
      ]
     },
     "execution_count": 16,
     "metadata": {},
     "output_type": "execute_result"
    }
   ],
   "source": [
    "#Observo los cambios realizados en el encabezado de las columnas\n",
    "file1.columns.values.tolist()\n",
    "file2.columns.values.tolist()\n",
    "file3.columns.values.tolist()"
   ]
  },
  {
   "cell_type": "code",
   "execution_count": null,
   "metadata": {
    "id": "ZbmuBHgGYM_d"
   },
   "outputs": [],
   "source": [
    "#Para reorganizar las columnas de los dataframe, decido generar una lista con los nombres de los encabezados de las columnas, para cada archivo. "
   ]
  },
  {
   "cell_type": "code",
   "execution_count": 17,
   "metadata": {
    "id": "8ZTFutErVmYR"
   },
   "outputs": [],
   "source": [
    "file1 = file1.reindex(columns=['CUSTOMER', 'STATE', 'CUSTOMER LIFETIME VALUE', 'EDUCATION', 'GENDER', 'INCOME', 'MONTHLY PREMIUM AUTO', 'NUMBER OF OPEN COMPLAINTS', 'POLICY TYPE', 'TOTAL CLAIM AMOUNT', 'VEHICLE CLASS'])"
   ]
  },
  {
   "cell_type": "code",
   "execution_count": 18,
   "metadata": {
    "id": "jxJDu0hfXXYG"
   },
   "outputs": [],
   "source": [
    "file2 = file2.reindex(columns=['CUSTOMER', 'STATE', 'CUSTOMER LIFETIME VALUE', 'EDUCATION', 'GENDER', 'INCOME', 'MONTHLY PREMIUM AUTO', 'NUMBER OF OPEN COMPLAINTS', 'POLICY TYPE', 'TOTAL CLAIM AMOUNT', 'VEHICLE CLASS'])"
   ]
  },
  {
   "cell_type": "code",
   "execution_count": 19,
   "metadata": {
    "id": "fF-ZQCn0X-Hs"
   },
   "outputs": [],
   "source": [
    "file3 = file3.reindex(columns=['CUSTOMER', 'STATE', 'CUSTOMER LIFETIME VALUE', 'EDUCATION', 'GENDER', 'INCOME', 'MONTHLY PREMIUM AUTO', 'NUMBER OF OPEN COMPLAINTS', 'POLICY TYPE', 'TOTAL CLAIM AMOUNT', 'VEHICLE CLASS'])"
   ]
  },
  {
   "cell_type": "code",
   "execution_count": 20,
   "metadata": {
    "colab": {
     "base_uri": "https://localhost:8080/"
    },
    "id": "eKpjZUrDYHRm",
    "outputId": "f573337c-1815-41b6-d6ae-5031ba7c7c6d"
   },
   "outputs": [
    {
     "name": "stdout",
     "output_type": "stream",
     "text": [
      "Index(['CUSTOMER', 'STATE', 'CUSTOMER LIFETIME VALUE', 'EDUCATION', 'GENDER',\n",
      "       'INCOME', 'MONTHLY PREMIUM AUTO', 'NUMBER OF OPEN COMPLAINTS',\n",
      "       'POLICY TYPE', 'TOTAL CLAIM AMOUNT', 'VEHICLE CLASS'],\n",
      "      dtype='object')\n",
      "Index(['CUSTOMER', 'STATE', 'CUSTOMER LIFETIME VALUE', 'EDUCATION', 'GENDER',\n",
      "       'INCOME', 'MONTHLY PREMIUM AUTO', 'NUMBER OF OPEN COMPLAINTS',\n",
      "       'POLICY TYPE', 'TOTAL CLAIM AMOUNT', 'VEHICLE CLASS'],\n",
      "      dtype='object')\n",
      "Index(['CUSTOMER', 'STATE', 'CUSTOMER LIFETIME VALUE', 'EDUCATION', 'GENDER',\n",
      "       'INCOME', 'MONTHLY PREMIUM AUTO', 'NUMBER OF OPEN COMPLAINTS',\n",
      "       'POLICY TYPE', 'TOTAL CLAIM AMOUNT', 'VEHICLE CLASS'],\n",
      "      dtype='object')\n"
     ]
    }
   ],
   "source": [
    "#Reviso los índices\n",
    "print(file1.columns)\n",
    "print(file2.columns)\n",
    "print(file3.columns)"
   ]
  },
  {
   "cell_type": "code",
   "execution_count": 21,
   "metadata": {
    "id": "hTsEzBiAYv_4"
   },
   "outputs": [],
   "source": [
    "# Concatenar dataframes\n",
    "data = pd.concat([file1, file2, file3], axis=0)"
   ]
  },
  {
   "cell_type": "code",
   "execution_count": 22,
   "metadata": {
    "colab": {
     "base_uri": "https://localhost:8080/"
    },
    "id": "MMlnvUPkZ4JS",
    "outputId": "43249653-ff5b-410e-9cdb-1c4f2cd586bd"
   },
   "outputs": [
    {
     "name": "stdout",
     "output_type": "stream",
     "text": [
      "(12074, 11)\n",
      "  CUSTOMER STATE CUSTOMER LIFETIME VALUE             EDUCATION GENDER  \\\n",
      "0  RB50392   NaN                     NaN                Master    NaN   \n",
      "1  QZ44356   NaN              697953.59%              Bachelor      F   \n",
      "2  AI49188   NaN             1288743.17%              Bachelor      F   \n",
      "3  WW63253   NaN              764586.18%              Bachelor      M   \n",
      "4  GA49547   NaN              536307.65%  High School or Below      M   \n",
      "\n",
      "    INCOME  MONTHLY PREMIUM AUTO NUMBER OF OPEN COMPLAINTS     POLICY TYPE  \\\n",
      "0      0.0                1000.0                    1/0/00   Personal Auto   \n",
      "1      0.0                  94.0                    1/0/00   Personal Auto   \n",
      "2  48767.0                 108.0                    1/0/00   Personal Auto   \n",
      "3      0.0                 106.0                    1/0/00  Corporate Auto   \n",
      "4  36357.0                  68.0                    1/0/00   Personal Auto   \n",
      "\n",
      "   TOTAL CLAIM AMOUNT  VEHICLE CLASS  \n",
      "0            2.704934  Four-Door Car  \n",
      "1         1131.464935  Four-Door Car  \n",
      "2          566.472247   Two-Door Car  \n",
      "3          529.881344            SUV  \n",
      "4           17.269323  Four-Door Car  \n",
      "     CUSTOMER    STATE CUSTOMER LIFETIME VALUE EDUCATION GENDER  INCOME  \\\n",
      "6339  IO57824  Arizona             2953.797658  Bachelor      M     0.0   \n",
      "\n",
      "      MONTHLY PREMIUM AUTO NUMBER OF OPEN COMPLAINTS    POLICY TYPE  \\\n",
      "6339                  87.0                         2  Personal Auto   \n",
      "\n",
      "      TOTAL CLAIM AMOUNT  VEHICLE CLASS  \n",
      "6339          414.190987  Four-Door Car  \n"
     ]
    }
   ],
   "source": [
    "print(data.shape)\n",
    "print(data.head())\n",
    "print(data.sample())"
   ]
  },
  {
   "cell_type": "code",
   "execution_count": 23,
   "metadata": {
    "id": "5_aMKEfybUwb"
   },
   "outputs": [],
   "source": [
    "# Identifico columnas numéricas\n",
    "numeric_cols = data.select_dtypes(include=['float64', 'int64']).columns.tolist()"
   ]
  },
  {
   "cell_type": "code",
   "execution_count": 24,
   "metadata": {
    "colab": {
     "base_uri": "https://localhost:8080/"
    },
    "id": "fYczubazbckL",
    "outputId": "f8ee2618-2e89-4015-da9e-b457f71ee829"
   },
   "outputs": [
    {
     "name": "stdout",
     "output_type": "stream",
     "text": [
      "['INCOME', 'MONTHLY PREMIUM AUTO', 'TOTAL CLAIM AMOUNT']\n"
     ]
    }
   ],
   "source": [
    "print(numeric_cols)"
   ]
  },
  {
   "cell_type": "code",
   "execution_count": 25,
   "metadata": {
    "id": "l6YU1qtybzMF"
   },
   "outputs": [],
   "source": [
    "#Identifico columnas con variables categóricas"
   ]
  },
  {
   "cell_type": "code",
   "execution_count": 26,
   "metadata": {
    "id": "oef1VrIHcmyG"
   },
   "outputs": [],
   "source": [
    "categorical_cols = data.select_dtypes(include=['object']).columns.tolist()"
   ]
  },
  {
   "cell_type": "code",
   "execution_count": 27,
   "metadata": {
    "colab": {
     "base_uri": "https://localhost:8080/"
    },
    "id": "nY_N5TGFcoEu",
    "outputId": "147ddfff-68c2-4843-dcff-1720208288f6"
   },
   "outputs": [
    {
     "name": "stdout",
     "output_type": "stream",
     "text": [
      "['CUSTOMER', 'STATE', 'CUSTOMER LIFETIME VALUE', 'EDUCATION', 'GENDER', 'NUMBER OF OPEN COMPLAINTS', 'POLICY TYPE', 'VEHICLE CLASS']\n"
     ]
    }
   ],
   "source": [
    "print(categorical_cols)"
   ]
  },
  {
   "cell_type": "code",
   "execution_count": 28,
   "metadata": {
    "colab": {
     "base_uri": "https://localhost:8080/"
    },
    "id": "NO6nkOsXgigl",
    "outputId": "3e93d155-62c8-4bdf-b509-dfc5e633186c"
   },
   "outputs": [
    {
     "name": "stdout",
     "output_type": "stream",
     "text": [
      "CUSTOMER                      object\n",
      "STATE                         object\n",
      "CUSTOMER LIFETIME VALUE       object\n",
      "EDUCATION                     object\n",
      "GENDER                        object\n",
      "INCOME                       float64\n",
      "MONTHLY PREMIUM AUTO         float64\n",
      "NUMBER OF OPEN COMPLAINTS     object\n",
      "POLICY TYPE                   object\n",
      "TOTAL CLAIM AMOUNT           float64\n",
      "VEHICLE CLASS                 object\n",
      "dtype: object\n"
     ]
    }
   ],
   "source": [
    "#identifico el tipo de datos\n",
    "print(data.dtypes)"
   ]
  },
  {
   "cell_type": "code",
   "execution_count": 29,
   "metadata": {
    "id": "3ty4j7R9iQXK"
   },
   "outputs": [],
   "source": [
    "#Elimino la columna ''EDUCATION'' y ''NUMBER OF OPEN COMPLAINTS''\n",
    "data = data.drop(['EDUCATION', 'NUMBER OF OPEN COMPLAINTS'], axis=1)"
   ]
  },
  {
   "cell_type": "code",
   "execution_count": 30,
   "metadata": {
    "colab": {
     "base_uri": "https://localhost:8080/"
    },
    "id": "w_eGNCG7igC6",
    "outputId": "86679a26-01a5-4944-a616-cdb51c3eebe7"
   },
   "outputs": [
    {
     "name": "stdout",
     "output_type": "stream",
     "text": [
      "     CUSTOMER       STATE CUSTOMER LIFETIME VALUE GENDER   INCOME  \\\n",
      "0     RB50392         NaN                     NaN    NaN      0.0   \n",
      "1     QZ44356         NaN              697953.59%      F      0.0   \n",
      "2     AI49188         NaN             1288743.17%      F  48767.0   \n",
      "3     WW63253         NaN              764586.18%      M      0.0   \n",
      "4     GA49547         NaN              536307.65%      M  36357.0   \n",
      "...       ...         ...                     ...    ...      ...   \n",
      "7065  LA72316  California             23405.98798      M  71941.0   \n",
      "7066  PK87824  California             3096.511217      F  21604.0   \n",
      "7067  TD14365  California             8163.890428      M      0.0   \n",
      "7068  UP19263  California             7524.442436      M  21941.0   \n",
      "7069  Y167826  California             2611.836866      M      0.0   \n",
      "\n",
      "      MONTHLY PREMIUM AUTO     POLICY TYPE  TOTAL CLAIM AMOUNT  VEHICLE CLASS  \n",
      "0                   1000.0   Personal Auto            2.704934  Four-Door Car  \n",
      "1                     94.0   Personal Auto         1131.464935  Four-Door Car  \n",
      "2                    108.0   Personal Auto          566.472247   Two-Door Car  \n",
      "3                    106.0  Corporate Auto          529.881344            SUV  \n",
      "4                     68.0   Personal Auto           17.269323  Four-Door Car  \n",
      "...                    ...             ...                 ...            ...  \n",
      "7065                  73.0   Personal Auto          198.234764  Four-Door Car  \n",
      "7066                  79.0  Corporate Auto          379.200000  Four-Door Car  \n",
      "7067                  85.0  Corporate Auto          790.784983  Four-Door Car  \n",
      "7068                  96.0   Personal Auto          691.200000  Four-Door Car  \n",
      "7069                  77.0  Corporate Auto          369.600000   Two-Door Car  \n",
      "\n",
      "[12074 rows x 9 columns]\n"
     ]
    }
   ],
   "source": [
    "print(data)"
   ]
  },
  {
   "cell_type": "code",
   "execution_count": 31,
   "metadata": {
    "colab": {
     "base_uri": "https://localhost:8080/"
    },
    "id": "JWSSDvixinfR",
    "outputId": "d26af04e-2c90-45ac-93c7-ebbc44d6da34"
   },
   "outputs": [
    {
     "data": {
      "text/plain": [
       "0               NaN\n",
       "1        697953.59%\n",
       "2       1288743.17%\n",
       "3        764586.18%\n",
       "4        536307.65%\n",
       "           ...     \n",
       "7065    23405.98798\n",
       "7066    3096.511217\n",
       "7067    8163.890428\n",
       "7068    7524.442436\n",
       "7069    2611.836866\n",
       "Name: CUSTOMER LIFETIME VALUE, Length: 12074, dtype: object"
      ]
     },
     "execution_count": 31,
     "metadata": {},
     "output_type": "execute_result"
    }
   ],
   "source": [
    "data['CUSTOMER LIFETIME VALUE']"
   ]
  },
  {
   "cell_type": "code",
   "execution_count": 32,
   "metadata": {
    "colab": {
     "base_uri": "https://localhost:8080/"
    },
    "id": "TjkAURsdjPfz",
    "outputId": "9e91d8d4-dc07-4267-93bd-7dbb66046e6d"
   },
   "outputs": [
    {
     "name": "stdout",
     "output_type": "stream",
     "text": [
      "16468.220790    6\n",
      "5246.278375     6\n",
      "22332.439460    6\n",
      "4270.034394     6\n",
      "5107.163002     6\n",
      "               ..\n",
      "7477.176362     1\n",
      "15700.284360    1\n",
      "2968.077571     1\n",
      "5452.171237     1\n",
      "2611.836866     1\n",
      "Name: CUSTOMER LIFETIME VALUE, Length: 8211, dtype: int64\n"
     ]
    }
   ],
   "source": [
    "#Cambio el valor de la columna ''CUSTOMER LIFETIME VALUE', de porcentaje a dato numérico.\n",
    "print(data['CUSTOMER LIFETIME VALUE'].value_counts())"
   ]
  },
  {
   "cell_type": "code",
   "execution_count": 33,
   "metadata": {
    "id": "uhnrtJAejrzP"
   },
   "outputs": [],
   "source": [
    "mask = data['CUSTOMER LIFETIME VALUE'].notna() & data['CUSTOMER LIFETIME VALUE'].str.contains('%')\n",
    "data.loc[mask, 'CUSTOMER LIFETIME VALUE'] = pd.to_numeric(data.loc[mask, 'CUSTOMER LIFETIME VALUE'].str.replace('%', '')) * 100"
   ]
  },
  {
   "cell_type": "code",
   "execution_count": 34,
   "metadata": {
    "colab": {
     "base_uri": "https://localhost:8080/"
    },
    "id": "0Ma9I_Q0kJXs",
    "outputId": "6a38cfc6-f7cc-4622-cf32-762b1a296a61"
   },
   "outputs": [
    {
     "data": {
      "text/plain": [
       "0               NaN\n",
       "1        69795359.0\n",
       "2       128874317.0\n",
       "3        76458618.0\n",
       "4        53630765.0\n",
       "           ...     \n",
       "7065    23405.98798\n",
       "7066    3096.511217\n",
       "7067    8163.890428\n",
       "7068    7524.442436\n",
       "7069    2611.836866\n",
       "Name: CUSTOMER LIFETIME VALUE, Length: 12074, dtype: object"
      ]
     },
     "execution_count": 34,
     "metadata": {},
     "output_type": "execute_result"
    }
   ],
   "source": [
    "data['CUSTOMER LIFETIME VALUE']"
   ]
  },
  {
   "cell_type": "code",
   "execution_count": 35,
   "metadata": {
    "colab": {
     "base_uri": "https://localhost:8080/"
    },
    "id": "EhHEVoDSkSyE",
    "outputId": "3deb0183-9de3-4fce-f31c-9c9cd75e12aa"
   },
   "outputs": [
    {
     "name": "stdout",
     "output_type": "stream",
     "text": [
      "Número de filas antes de eliminar duplicados: 12074\n",
      "Número de filas después de eliminar duplicados: 9135\n"
     ]
    }
   ],
   "source": [
    "#Comrpuebo si existen filas duplicadas en los datos\n",
    "print(\"Número de filas antes de eliminar duplicados:\", len(data))\n",
    "data = data.drop_duplicates()\n",
    "print(\"Número de filas después de eliminar duplicados:\", len(data))"
   ]
  },
  {
   "cell_type": "code",
   "execution_count": 36,
   "metadata": {
    "id": "qcA1i1sblwlT"
   },
   "outputs": [],
   "source": [
    "num_filas_antes = len(data)"
   ]
  },
  {
   "cell_type": "code",
   "execution_count": 37,
   "metadata": {
    "id": "tNsBzuS6krSI"
   },
   "outputs": [],
   "source": [
    "# Filtro los clientes que muestran un ingreso menor o igual a 0\n",
    "mask = data['INCOME'] <= 0\n",
    "data = data.drop(data[mask].index)\n"
   ]
  },
  {
   "cell_type": "code",
   "execution_count": 38,
   "metadata": {
    "id": "O0QPRUx0k7J_"
   },
   "outputs": [],
   "source": [
    "# Obtener el número de filas después de aplicar el filtro\n",
    "num_filas_despues = len(data)"
   ]
  },
  {
   "cell_type": "code",
   "execution_count": 39,
   "metadata": {
    "colab": {
     "base_uri": "https://localhost:8080/"
    },
    "id": "wesRkzu6lmUH",
    "outputId": "f5199da2-71c3-42cb-c242-d87a715d7252"
   },
   "outputs": [
    {
     "name": "stdout",
     "output_type": "stream",
     "text": [
      "Número de filas eliminadas: 3300\n"
     ]
    }
   ],
   "source": [
    "print(\"Número de filas eliminadas:\", num_filas_antes - num_filas_despues)"
   ]
  }
 ],
 "metadata": {
  "colab": {
   "provenance": []
  },
  "kernelspec": {
   "display_name": "Python 3 (ipykernel)",
   "language": "python",
   "name": "python3"
  },
  "language_info": {
   "codemirror_mode": {
    "name": "ipython",
    "version": 3
   },
   "file_extension": ".py",
   "mimetype": "text/x-python",
   "name": "python",
   "nbconvert_exporter": "python",
   "pygments_lexer": "ipython3",
   "version": "3.9.13"
  }
 },
 "nbformat": 4,
 "nbformat_minor": 4
}
