{
  "nbformat": 4,
  "nbformat_minor": 0,
  "metadata": {
    "colab": {
      "provenance": []
    },
    "kernelspec": {
      "name": "python3",
      "display_name": "Python 3"
    },
    "language_info": {
      "name": "python"
    }
  },
  "cells": [
    {
      "cell_type": "code",
      "execution_count": 139,
      "metadata": {
        "id": "bfNS2oWb4g6g"
      },
      "outputs": [],
      "source": [
        "#Establezco el entorno y llamo los archivos a analizar\n",
        "import pandas as pd\n",
        "import numpy as np"
      ]
    },
    {
      "cell_type": "code",
      "source": [
        "from google.colab import files\n",
        "import io\n",
        "import pandas\n",
        "data = files.upload()\n"
      ],
      "metadata": {
        "colab": {
          "base_uri": "https://localhost:8080/",
          "height": 142
        },
        "id": "njrXE3d15SUT",
        "outputId": "6e81c5ae-3a55-4912-adc2-cc2ae0f4d975"
      },
      "execution_count": 140,
      "outputs": [
        {
          "output_type": "display_data",
          "data": {
            "text/plain": [
              "<IPython.core.display.HTML object>"
            ],
            "text/html": [
              "\n",
              "     <input type=\"file\" id=\"files-61e260c3-fffa-4edf-b798-f415dae33f5e\" name=\"files[]\" multiple disabled\n",
              "        style=\"border:none\" />\n",
              "     <output id=\"result-61e260c3-fffa-4edf-b798-f415dae33f5e\">\n",
              "      Upload widget is only available when the cell has been executed in the\n",
              "      current browser session. Please rerun this cell to enable.\n",
              "      </output>\n",
              "      <script>// Copyright 2017 Google LLC\n",
              "//\n",
              "// Licensed under the Apache License, Version 2.0 (the \"License\");\n",
              "// you may not use this file except in compliance with the License.\n",
              "// You may obtain a copy of the License at\n",
              "//\n",
              "//      http://www.apache.org/licenses/LICENSE-2.0\n",
              "//\n",
              "// Unless required by applicable law or agreed to in writing, software\n",
              "// distributed under the License is distributed on an \"AS IS\" BASIS,\n",
              "// WITHOUT WARRANTIES OR CONDITIONS OF ANY KIND, either express or implied.\n",
              "// See the License for the specific language governing permissions and\n",
              "// limitations under the License.\n",
              "\n",
              "/**\n",
              " * @fileoverview Helpers for google.colab Python module.\n",
              " */\n",
              "(function(scope) {\n",
              "function span(text, styleAttributes = {}) {\n",
              "  const element = document.createElement('span');\n",
              "  element.textContent = text;\n",
              "  for (const key of Object.keys(styleAttributes)) {\n",
              "    element.style[key] = styleAttributes[key];\n",
              "  }\n",
              "  return element;\n",
              "}\n",
              "\n",
              "// Max number of bytes which will be uploaded at a time.\n",
              "const MAX_PAYLOAD_SIZE = 100 * 1024;\n",
              "\n",
              "function _uploadFiles(inputId, outputId) {\n",
              "  const steps = uploadFilesStep(inputId, outputId);\n",
              "  const outputElement = document.getElementById(outputId);\n",
              "  // Cache steps on the outputElement to make it available for the next call\n",
              "  // to uploadFilesContinue from Python.\n",
              "  outputElement.steps = steps;\n",
              "\n",
              "  return _uploadFilesContinue(outputId);\n",
              "}\n",
              "\n",
              "// This is roughly an async generator (not supported in the browser yet),\n",
              "// where there are multiple asynchronous steps and the Python side is going\n",
              "// to poll for completion of each step.\n",
              "// This uses a Promise to block the python side on completion of each step,\n",
              "// then passes the result of the previous step as the input to the next step.\n",
              "function _uploadFilesContinue(outputId) {\n",
              "  const outputElement = document.getElementById(outputId);\n",
              "  const steps = outputElement.steps;\n",
              "\n",
              "  const next = steps.next(outputElement.lastPromiseValue);\n",
              "  return Promise.resolve(next.value.promise).then((value) => {\n",
              "    // Cache the last promise value to make it available to the next\n",
              "    // step of the generator.\n",
              "    outputElement.lastPromiseValue = value;\n",
              "    return next.value.response;\n",
              "  });\n",
              "}\n",
              "\n",
              "/**\n",
              " * Generator function which is called between each async step of the upload\n",
              " * process.\n",
              " * @param {string} inputId Element ID of the input file picker element.\n",
              " * @param {string} outputId Element ID of the output display.\n",
              " * @return {!Iterable<!Object>} Iterable of next steps.\n",
              " */\n",
              "function* uploadFilesStep(inputId, outputId) {\n",
              "  const inputElement = document.getElementById(inputId);\n",
              "  inputElement.disabled = false;\n",
              "\n",
              "  const outputElement = document.getElementById(outputId);\n",
              "  outputElement.innerHTML = '';\n",
              "\n",
              "  const pickedPromise = new Promise((resolve) => {\n",
              "    inputElement.addEventListener('change', (e) => {\n",
              "      resolve(e.target.files);\n",
              "    });\n",
              "  });\n",
              "\n",
              "  const cancel = document.createElement('button');\n",
              "  inputElement.parentElement.appendChild(cancel);\n",
              "  cancel.textContent = 'Cancel upload';\n",
              "  const cancelPromise = new Promise((resolve) => {\n",
              "    cancel.onclick = () => {\n",
              "      resolve(null);\n",
              "    };\n",
              "  });\n",
              "\n",
              "  // Wait for the user to pick the files.\n",
              "  const files = yield {\n",
              "    promise: Promise.race([pickedPromise, cancelPromise]),\n",
              "    response: {\n",
              "      action: 'starting',\n",
              "    }\n",
              "  };\n",
              "\n",
              "  cancel.remove();\n",
              "\n",
              "  // Disable the input element since further picks are not allowed.\n",
              "  inputElement.disabled = true;\n",
              "\n",
              "  if (!files) {\n",
              "    return {\n",
              "      response: {\n",
              "        action: 'complete',\n",
              "      }\n",
              "    };\n",
              "  }\n",
              "\n",
              "  for (const file of files) {\n",
              "    const li = document.createElement('li');\n",
              "    li.append(span(file.name, {fontWeight: 'bold'}));\n",
              "    li.append(span(\n",
              "        `(${file.type || 'n/a'}) - ${file.size} bytes, ` +\n",
              "        `last modified: ${\n",
              "            file.lastModifiedDate ? file.lastModifiedDate.toLocaleDateString() :\n",
              "                                    'n/a'} - `));\n",
              "    const percent = span('0% done');\n",
              "    li.appendChild(percent);\n",
              "\n",
              "    outputElement.appendChild(li);\n",
              "\n",
              "    const fileDataPromise = new Promise((resolve) => {\n",
              "      const reader = new FileReader();\n",
              "      reader.onload = (e) => {\n",
              "        resolve(e.target.result);\n",
              "      };\n",
              "      reader.readAsArrayBuffer(file);\n",
              "    });\n",
              "    // Wait for the data to be ready.\n",
              "    let fileData = yield {\n",
              "      promise: fileDataPromise,\n",
              "      response: {\n",
              "        action: 'continue',\n",
              "      }\n",
              "    };\n",
              "\n",
              "    // Use a chunked sending to avoid message size limits. See b/62115660.\n",
              "    let position = 0;\n",
              "    do {\n",
              "      const length = Math.min(fileData.byteLength - position, MAX_PAYLOAD_SIZE);\n",
              "      const chunk = new Uint8Array(fileData, position, length);\n",
              "      position += length;\n",
              "\n",
              "      const base64 = btoa(String.fromCharCode.apply(null, chunk));\n",
              "      yield {\n",
              "        response: {\n",
              "          action: 'append',\n",
              "          file: file.name,\n",
              "          data: base64,\n",
              "        },\n",
              "      };\n",
              "\n",
              "      let percentDone = fileData.byteLength === 0 ?\n",
              "          100 :\n",
              "          Math.round((position / fileData.byteLength) * 100);\n",
              "      percent.textContent = `${percentDone}% done`;\n",
              "\n",
              "    } while (position < fileData.byteLength);\n",
              "  }\n",
              "\n",
              "  // All done.\n",
              "  yield {\n",
              "    response: {\n",
              "      action: 'complete',\n",
              "    }\n",
              "  };\n",
              "}\n",
              "\n",
              "scope.google = scope.google || {};\n",
              "scope.google.colab = scope.google.colab || {};\n",
              "scope.google.colab._files = {\n",
              "  _uploadFiles,\n",
              "  _uploadFilesContinue,\n",
              "};\n",
              "})(self);\n",
              "</script> "
            ]
          },
          "metadata": {}
        },
        {
          "output_type": "stream",
          "name": "stdout",
          "text": [
            "Saving file1.csv to file1 (2).csv\n",
            "Saving file2.csv to file2 (2).csv\n",
            "Saving file3.csv to file3 (2).csv\n"
          ]
        }
      ]
    },
    {
      "cell_type": "code",
      "source": [
        "#Lectura de los archivos como data frame \n",
        "file1 = pd.read_csv(io.StringIO(data['file1.csv'].decode('utf-8')))\n",
        "file2 = pd.read_csv(io.StringIO(data['file2.csv'].decode('utf-8')))\n",
        "file3 = pd.read_csv(io.StringIO(data['file3.csv'].decode('utf-8')))"
      ],
      "metadata": {
        "id": "5WmciWGq79s5"
      },
      "execution_count": 141,
      "outputs": []
    },
    {
      "cell_type": "code",
      "source": [
        "#Observo los elementos que componen el Data frame\n",
        "print(\"File 1 shape:\", file1.shape)\n",
        "print(\"File 2 shape:\", file2.shape)\n",
        "print(\"File 3 shape:\", file3.shape)"
      ],
      "metadata": {
        "colab": {
          "base_uri": "https://localhost:8080/"
        },
        "id": "u1m7_q_9BTMc",
        "outputId": "26b94536-6712-45cb-de67-cbb2b6e16446"
      },
      "execution_count": 142,
      "outputs": [
        {
          "output_type": "stream",
          "name": "stdout",
          "text": [
            "File 1 shape: (4008, 11)\n",
            "File 2 shape: (996, 11)\n",
            "File 3 shape: (7070, 11)\n"
          ]
        }
      ]
    },
    {
      "cell_type": "code",
      "source": [
        "#Despliego en una lista los encabezados de la comlumnas del data frame para identificar irregularidades\n",
        "file1.columns.values.tolist()\n",
        "file2.columns.values.tolist()\n",
        "file3.columns.values.tolist()"
      ],
      "metadata": {
        "colab": {
          "base_uri": "https://localhost:8080/"
        },
        "id": "6xtSbklYP2b9",
        "outputId": "5d8eb5c4-4ef2-4127-be6b-6ff24aa5c02b"
      },
      "execution_count": 143,
      "outputs": [
        {
          "output_type": "execute_result",
          "data": {
            "text/plain": [
              "['Customer',\n",
              " 'State',\n",
              " 'Customer Lifetime Value',\n",
              " 'Education',\n",
              " 'Gender',\n",
              " 'Income',\n",
              " 'Monthly Premium Auto',\n",
              " 'Number of Open Complaints',\n",
              " 'Policy Type',\n",
              " 'Total Claim Amount',\n",
              " 'Vehicle Class']"
            ]
          },
          "metadata": {},
          "execution_count": 143
        }
      ]
    },
    {
      "cell_type": "code",
      "source": [
        "#Convierto las cabeceras de las columnas en string\n",
        "file1.columns = file1.columns.astype(\"str\")\n",
        "file2.columns = file2.columns.astype(\"str\")\n",
        "file3.columns = file3.columns.astype(\"str\")"
      ],
      "metadata": {
        "id": "Wu-PvWLfSbQz"
      },
      "execution_count": 144,
      "outputs": []
    },
    {
      "cell_type": "code",
      "source": [
        "#Estandarizo las cabeceras de las columnas en mayúsculas\n",
        "file1.columns = file1.columns.str.upper()\n",
        "file2.columns = file2.columns.str.upper()\n",
        "file3.columns = file3.columns.str.upper()"
      ],
      "metadata": {
        "id": "ZcRP9Q4fQJRs"
      },
      "execution_count": 145,
      "outputs": []
    },
    {
      "cell_type": "code",
      "source": [
        "#Observo los cambios realizados en el encabezado de las columnas\n",
        "file1.columns.values.tolist()\n",
        "file2.columns.values.tolist()\n",
        "file3.columns.values.tolist()"
      ],
      "metadata": {
        "colab": {
          "base_uri": "https://localhost:8080/"
        },
        "id": "gYluVR89QN-1",
        "outputId": "e7aded10-b7c4-453d-dab1-cd2826d644f1"
      },
      "execution_count": 146,
      "outputs": [
        {
          "output_type": "execute_result",
          "data": {
            "text/plain": [
              "['CUSTOMER',\n",
              " 'STATE',\n",
              " 'CUSTOMER LIFETIME VALUE',\n",
              " 'EDUCATION',\n",
              " 'GENDER',\n",
              " 'INCOME',\n",
              " 'MONTHLY PREMIUM AUTO',\n",
              " 'NUMBER OF OPEN COMPLAINTS',\n",
              " 'POLICY TYPE',\n",
              " 'TOTAL CLAIM AMOUNT',\n",
              " 'VEHICLE CLASS']"
            ]
          },
          "metadata": {},
          "execution_count": 146
        }
      ]
    },
    {
      "cell_type": "code",
      "source": [
        "#Para reorganizar las columnas de los dataframe, decido generar una lista con los nombres de los encabezados de las columnas, para cada archivo. "
      ],
      "metadata": {
        "id": "ZbmuBHgGYM_d"
      },
      "execution_count": 147,
      "outputs": []
    },
    {
      "cell_type": "code",
      "source": [
        "file1 = file1.reindex(columns=['CUSTOMER', 'STATE', 'CUSTOMER LIFETIME VALUE', 'EDUCATION', 'GENDER', 'INCOME', 'MONTHLY PREMIUM AUTO', 'NUMBER OF OPEN COMPLAINTS', 'POLICY TYPE', 'TOTAL CLAIM AMOUNT', 'VEHICLE CLASS'])"
      ],
      "metadata": {
        "id": "8ZTFutErVmYR"
      },
      "execution_count": 148,
      "outputs": []
    },
    {
      "cell_type": "code",
      "source": [
        "file2 = file2.reindex(columns=['CUSTOMER', 'STATE', 'CUSTOMER LIFETIME VALUE', 'EDUCATION', 'GENDER', 'INCOME', 'MONTHLY PREMIUM AUTO', 'NUMBER OF OPEN COMPLAINTS', 'POLICY TYPE', 'TOTAL CLAIM AMOUNT', 'VEHICLE CLASS'])"
      ],
      "metadata": {
        "id": "jxJDu0hfXXYG"
      },
      "execution_count": 149,
      "outputs": []
    },
    {
      "cell_type": "code",
      "source": [
        "file3 = file3.reindex(columns=['CUSTOMER', 'STATE', 'CUSTOMER LIFETIME VALUE', 'EDUCATION', 'GENDER', 'INCOME', 'MONTHLY PREMIUM AUTO', 'NUMBER OF OPEN COMPLAINTS', 'POLICY TYPE', 'TOTAL CLAIM AMOUNT', 'VEHICLE CLASS'])"
      ],
      "metadata": {
        "id": "fF-ZQCn0X-Hs"
      },
      "execution_count": 150,
      "outputs": []
    },
    {
      "cell_type": "code",
      "source": [
        "#Reviso los índices\n",
        "print(file1.columns)\n",
        "print(file2.columns)\n",
        "print(file3.columns)"
      ],
      "metadata": {
        "colab": {
          "base_uri": "https://localhost:8080/"
        },
        "id": "eKpjZUrDYHRm",
        "outputId": "f573337c-1815-41b6-d6ae-5031ba7c7c6d"
      },
      "execution_count": 151,
      "outputs": [
        {
          "output_type": "stream",
          "name": "stdout",
          "text": [
            "Index(['CUSTOMER', 'STATE', 'CUSTOMER LIFETIME VALUE', 'EDUCATION', 'GENDER',\n",
            "       'INCOME', 'MONTHLY PREMIUM AUTO', 'NUMBER OF OPEN COMPLAINTS',\n",
            "       'POLICY TYPE', 'TOTAL CLAIM AMOUNT', 'VEHICLE CLASS'],\n",
            "      dtype='object')\n",
            "Index(['CUSTOMER', 'STATE', 'CUSTOMER LIFETIME VALUE', 'EDUCATION', 'GENDER',\n",
            "       'INCOME', 'MONTHLY PREMIUM AUTO', 'NUMBER OF OPEN COMPLAINTS',\n",
            "       'POLICY TYPE', 'TOTAL CLAIM AMOUNT', 'VEHICLE CLASS'],\n",
            "      dtype='object')\n",
            "Index(['CUSTOMER', 'STATE', 'CUSTOMER LIFETIME VALUE', 'EDUCATION', 'GENDER',\n",
            "       'INCOME', 'MONTHLY PREMIUM AUTO', 'NUMBER OF OPEN COMPLAINTS',\n",
            "       'POLICY TYPE', 'TOTAL CLAIM AMOUNT', 'VEHICLE CLASS'],\n",
            "      dtype='object')\n"
          ]
        }
      ]
    },
    {
      "cell_type": "code",
      "source": [
        "# Concatenar dataframes\n",
        "data = pd.concat([file1, file2, file3], axis=0)"
      ],
      "metadata": {
        "id": "hTsEzBiAYv_4"
      },
      "execution_count": 152,
      "outputs": []
    },
    {
      "cell_type": "code",
      "source": [
        "print(data.shape)\n",
        "print(data.head())\n",
        "print(data.sample())"
      ],
      "metadata": {
        "colab": {
          "base_uri": "https://localhost:8080/"
        },
        "id": "MMlnvUPkZ4JS",
        "outputId": "43249653-ff5b-410e-9cdb-1c4f2cd586bd"
      },
      "execution_count": 153,
      "outputs": [
        {
          "output_type": "stream",
          "name": "stdout",
          "text": [
            "(12074, 11)\n",
            "  CUSTOMER STATE CUSTOMER LIFETIME VALUE             EDUCATION GENDER  \\\n",
            "0  RB50392   NaN                     NaN                Master    NaN   \n",
            "1  QZ44356   NaN              697953.59%              Bachelor      F   \n",
            "2  AI49188   NaN             1288743.17%              Bachelor      F   \n",
            "3  WW63253   NaN              764586.18%              Bachelor      M   \n",
            "4  GA49547   NaN              536307.65%  High School or Below      M   \n",
            "\n",
            "    INCOME  MONTHLY PREMIUM AUTO NUMBER OF OPEN COMPLAINTS     POLICY TYPE  \\\n",
            "0      0.0                1000.0                    1/0/00   Personal Auto   \n",
            "1      0.0                  94.0                    1/0/00   Personal Auto   \n",
            "2  48767.0                 108.0                    1/0/00   Personal Auto   \n",
            "3      0.0                 106.0                    1/0/00  Corporate Auto   \n",
            "4  36357.0                  68.0                    1/0/00   Personal Auto   \n",
            "\n",
            "   TOTAL CLAIM AMOUNT  VEHICLE CLASS  \n",
            "0            2.704934  Four-Door Car  \n",
            "1         1131.464935  Four-Door Car  \n",
            "2          566.472247   Two-Door Car  \n",
            "3          529.881344            SUV  \n",
            "4           17.269323  Four-Door Car  \n",
            "    CUSTOMER STATE CUSTOMER LIFETIME VALUE EDUCATION GENDER   INCOME  \\\n",
            "298  TJ30354   NaN              528530.76%  Bachelor      F  22627.0   \n",
            "\n",
            "     MONTHLY PREMIUM AUTO NUMBER OF OPEN COMPLAINTS    POLICY TYPE  \\\n",
            "298                  67.0                    1/0/00  Personal Auto   \n",
            "\n",
            "     TOTAL CLAIM AMOUNT  VEHICLE CLASS  \n",
            "298               321.6  Four-Door Car  \n"
          ]
        }
      ]
    },
    {
      "cell_type": "code",
      "source": [
        "# Identifico columnas numéricas\n",
        "numeric_cols = data.select_dtypes(include=['float64', 'int64']).columns.tolist()"
      ],
      "metadata": {
        "id": "5_aMKEfybUwb"
      },
      "execution_count": 154,
      "outputs": []
    },
    {
      "cell_type": "code",
      "source": [
        "print(numeric_cols)"
      ],
      "metadata": {
        "colab": {
          "base_uri": "https://localhost:8080/"
        },
        "id": "fYczubazbckL",
        "outputId": "f8ee2618-2e89-4015-da9e-b457f71ee829"
      },
      "execution_count": 155,
      "outputs": [
        {
          "output_type": "stream",
          "name": "stdout",
          "text": [
            "['INCOME', 'MONTHLY PREMIUM AUTO', 'TOTAL CLAIM AMOUNT']\n"
          ]
        }
      ]
    },
    {
      "cell_type": "code",
      "source": [
        "#Identifico columnas con variables categóricas"
      ],
      "metadata": {
        "id": "l6YU1qtybzMF"
      },
      "execution_count": 156,
      "outputs": []
    },
    {
      "cell_type": "code",
      "source": [
        "categorical_cols = data.select_dtypes(include=['object']).columns.tolist()"
      ],
      "metadata": {
        "id": "oef1VrIHcmyG"
      },
      "execution_count": 157,
      "outputs": []
    },
    {
      "cell_type": "code",
      "source": [
        "print(categorical_cols)"
      ],
      "metadata": {
        "colab": {
          "base_uri": "https://localhost:8080/"
        },
        "id": "nY_N5TGFcoEu",
        "outputId": "147ddfff-68c2-4843-dcff-1720208288f6"
      },
      "execution_count": 158,
      "outputs": [
        {
          "output_type": "stream",
          "name": "stdout",
          "text": [
            "['CUSTOMER', 'STATE', 'CUSTOMER LIFETIME VALUE', 'EDUCATION', 'GENDER', 'NUMBER OF OPEN COMPLAINTS', 'POLICY TYPE', 'VEHICLE CLASS']\n"
          ]
        }
      ]
    },
    {
      "cell_type": "code",
      "source": [
        "#identifico el tipo de datos\n",
        "print(data.dtypes)"
      ],
      "metadata": {
        "colab": {
          "base_uri": "https://localhost:8080/"
        },
        "id": "NO6nkOsXgigl",
        "outputId": "3e93d155-62c8-4bdf-b509-dfc5e633186c"
      },
      "execution_count": 159,
      "outputs": [
        {
          "output_type": "stream",
          "name": "stdout",
          "text": [
            "CUSTOMER                      object\n",
            "STATE                         object\n",
            "CUSTOMER LIFETIME VALUE       object\n",
            "EDUCATION                     object\n",
            "GENDER                        object\n",
            "INCOME                       float64\n",
            "MONTHLY PREMIUM AUTO         float64\n",
            "NUMBER OF OPEN COMPLAINTS     object\n",
            "POLICY TYPE                   object\n",
            "TOTAL CLAIM AMOUNT           float64\n",
            "VEHICLE CLASS                 object\n",
            "dtype: object\n"
          ]
        }
      ]
    },
    {
      "cell_type": "code",
      "source": [
        "#Elimino la columna ''EDUCATION'' y ''NUMBER OF OPEN COMPLAINTS''\n",
        "data = data.drop(['EDUCATION', 'NUMBER OF OPEN COMPLAINTS'], axis=1)"
      ],
      "metadata": {
        "id": "3ty4j7R9iQXK"
      },
      "execution_count": 160,
      "outputs": []
    },
    {
      "cell_type": "code",
      "source": [
        "print(data)"
      ],
      "metadata": {
        "colab": {
          "base_uri": "https://localhost:8080/"
        },
        "id": "w_eGNCG7igC6",
        "outputId": "86679a26-01a5-4944-a616-cdb51c3eebe7"
      },
      "execution_count": 161,
      "outputs": [
        {
          "output_type": "stream",
          "name": "stdout",
          "text": [
            "     CUSTOMER       STATE CUSTOMER LIFETIME VALUE GENDER   INCOME  \\\n",
            "0     RB50392         NaN                     NaN    NaN      0.0   \n",
            "1     QZ44356         NaN              697953.59%      F      0.0   \n",
            "2     AI49188         NaN             1288743.17%      F  48767.0   \n",
            "3     WW63253         NaN              764586.18%      M      0.0   \n",
            "4     GA49547         NaN              536307.65%      M  36357.0   \n",
            "...       ...         ...                     ...    ...      ...   \n",
            "7065  LA72316  California             23405.98798      M  71941.0   \n",
            "7066  PK87824  California             3096.511217      F  21604.0   \n",
            "7067  TD14365  California             8163.890428      M      0.0   \n",
            "7068  UP19263  California             7524.442436      M  21941.0   \n",
            "7069  Y167826  California             2611.836866      M      0.0   \n",
            "\n",
            "      MONTHLY PREMIUM AUTO     POLICY TYPE  TOTAL CLAIM AMOUNT  VEHICLE CLASS  \n",
            "0                   1000.0   Personal Auto            2.704934  Four-Door Car  \n",
            "1                     94.0   Personal Auto         1131.464935  Four-Door Car  \n",
            "2                    108.0   Personal Auto          566.472247   Two-Door Car  \n",
            "3                    106.0  Corporate Auto          529.881344            SUV  \n",
            "4                     68.0   Personal Auto           17.269323  Four-Door Car  \n",
            "...                    ...             ...                 ...            ...  \n",
            "7065                  73.0   Personal Auto          198.234764  Four-Door Car  \n",
            "7066                  79.0  Corporate Auto          379.200000  Four-Door Car  \n",
            "7067                  85.0  Corporate Auto          790.784983  Four-Door Car  \n",
            "7068                  96.0   Personal Auto          691.200000  Four-Door Car  \n",
            "7069                  77.0  Corporate Auto          369.600000   Two-Door Car  \n",
            "\n",
            "[12074 rows x 9 columns]\n"
          ]
        }
      ]
    },
    {
      "cell_type": "code",
      "source": [
        "data['CUSTOMER LIFETIME VALUE']"
      ],
      "metadata": {
        "colab": {
          "base_uri": "https://localhost:8080/"
        },
        "id": "JWSSDvixinfR",
        "outputId": "d26af04e-2c90-45ac-93c7-ebbc44d6da34"
      },
      "execution_count": 162,
      "outputs": [
        {
          "output_type": "execute_result",
          "data": {
            "text/plain": [
              "0               NaN\n",
              "1        697953.59%\n",
              "2       1288743.17%\n",
              "3        764586.18%\n",
              "4        536307.65%\n",
              "           ...     \n",
              "7065    23405.98798\n",
              "7066    3096.511217\n",
              "7067    8163.890428\n",
              "7068    7524.442436\n",
              "7069    2611.836866\n",
              "Name: CUSTOMER LIFETIME VALUE, Length: 12074, dtype: object"
            ]
          },
          "metadata": {},
          "execution_count": 162
        }
      ]
    },
    {
      "cell_type": "code",
      "source": [
        "#Cambio el valor de la columna ''CUSTOMER LIFETIME VALUE', de porcentaje a dato numérico.\n",
        "print(data['CUSTOMER LIFETIME VALUE'].value_counts())"
      ],
      "metadata": {
        "colab": {
          "base_uri": "https://localhost:8080/"
        },
        "id": "TjkAURsdjPfz",
        "outputId": "9e91d8d4-dc07-4267-93bd-7dbb66046e6d"
      },
      "execution_count": 163,
      "outputs": [
        {
          "output_type": "stream",
          "name": "stdout",
          "text": [
            "16468.220790    6\n",
            "5246.278375     6\n",
            "22332.439460    6\n",
            "4270.034394     6\n",
            "5107.163002     6\n",
            "               ..\n",
            "7477.176362     1\n",
            "15700.284360    1\n",
            "2968.077571     1\n",
            "5452.171237     1\n",
            "2611.836866     1\n",
            "Name: CUSTOMER LIFETIME VALUE, Length: 8211, dtype: int64\n"
          ]
        }
      ]
    },
    {
      "cell_type": "code",
      "source": [
        "mask = data['CUSTOMER LIFETIME VALUE'].notna() & data['CUSTOMER LIFETIME VALUE'].str.contains('%')\n",
        "data.loc[mask, 'CUSTOMER LIFETIME VALUE'] = pd.to_numeric(data.loc[mask, 'CUSTOMER LIFETIME VALUE'].str.replace('%', '')) * 100"
      ],
      "metadata": {
        "id": "uhnrtJAejrzP"
      },
      "execution_count": 164,
      "outputs": []
    },
    {
      "cell_type": "code",
      "source": [
        "data['CUSTOMER LIFETIME VALUE']"
      ],
      "metadata": {
        "colab": {
          "base_uri": "https://localhost:8080/"
        },
        "id": "0Ma9I_Q0kJXs",
        "outputId": "6a38cfc6-f7cc-4622-cf32-762b1a296a61"
      },
      "execution_count": 165,
      "outputs": [
        {
          "output_type": "execute_result",
          "data": {
            "text/plain": [
              "0               NaN\n",
              "1        69795359.0\n",
              "2       128874317.0\n",
              "3        76458618.0\n",
              "4        53630765.0\n",
              "           ...     \n",
              "7065    23405.98798\n",
              "7066    3096.511217\n",
              "7067    8163.890428\n",
              "7068    7524.442436\n",
              "7069    2611.836866\n",
              "Name: CUSTOMER LIFETIME VALUE, Length: 12074, dtype: object"
            ]
          },
          "metadata": {},
          "execution_count": 165
        }
      ]
    },
    {
      "cell_type": "code",
      "source": [
        "#Comrpuebo si existen filas duplicadas en los datos\n",
        "print(\"Número de filas antes de eliminar duplicados:\", len(data))\n",
        "data = data.drop_duplicates()\n",
        "print(\"Número de filas después de eliminar duplicados:\", len(data))"
      ],
      "metadata": {
        "colab": {
          "base_uri": "https://localhost:8080/"
        },
        "id": "EhHEVoDSkSyE",
        "outputId": "3deb0183-9de3-4fce-f31c-9c9cd75e12aa"
      },
      "execution_count": 166,
      "outputs": [
        {
          "output_type": "stream",
          "name": "stdout",
          "text": [
            "Número de filas antes de eliminar duplicados: 12074\n",
            "Número de filas después de eliminar duplicados: 9135\n"
          ]
        }
      ]
    },
    {
      "cell_type": "code",
      "source": [
        "num_filas_antes = len(data)"
      ],
      "metadata": {
        "id": "qcA1i1sblwlT"
      },
      "execution_count": 167,
      "outputs": []
    },
    {
      "cell_type": "code",
      "source": [
        "# Filtro los clientes que muestran un ingreso menor o igual a 0\n",
        "mask = data['INCOME'] <= 0\n",
        "data = data.drop(data[mask].index)\n"
      ],
      "metadata": {
        "id": "tNsBzuS6krSI"
      },
      "execution_count": 168,
      "outputs": []
    },
    {
      "cell_type": "code",
      "source": [
        "# Obtener el número de filas después de aplicar el filtro\n",
        "num_filas_despues = len(data)"
      ],
      "metadata": {
        "id": "O0QPRUx0k7J_"
      },
      "execution_count": 169,
      "outputs": []
    },
    {
      "cell_type": "code",
      "source": [
        "print(\"Número de filas eliminadas:\", num_filas_antes - num_filas_despues)"
      ],
      "metadata": {
        "colab": {
          "base_uri": "https://localhost:8080/"
        },
        "id": "wesRkzu6lmUH",
        "outputId": "f5199da2-71c3-42cb-c242-d87a715d7252"
      },
      "execution_count": 170,
      "outputs": [
        {
          "output_type": "stream",
          "name": "stdout",
          "text": [
            "Número de filas eliminadas: 3300\n"
          ]
        }
      ]
    }
  ]
}